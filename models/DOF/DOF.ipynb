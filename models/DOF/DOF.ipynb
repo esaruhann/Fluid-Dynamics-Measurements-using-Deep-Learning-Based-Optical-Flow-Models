{
 "cells": [
  {
   "cell_type": "code",
   "execution_count": null,
   "id": "9e1e36ce",
   "metadata": {},
   "outputs": [],
   "source": [
    "from pathlib import Path\n",
    "\n",
    "import torch\n",
    "import cv2 as cv\n",
    "import numpy as np\n",
    "from PIL import Image\n",
    "import matplotlib.pyplot as plt\n",
    "from matplotlib import animation\n",
    "from IPython.display import HTML, display\n",
    "\n",
    "import torchvision.transforms as T"
   ]
  },
  {
   "cell_type": "code",
   "execution_count": null,
   "id": "d2d3fb65",
   "metadata": {},
   "outputs": [],
   "source": [
    "import cv2\n",
    "video_name = '/content/drive/MyDrive/Colab Notebooks/piv_video/re1100raw200frame_aortic.avi' # or any other extension like .avi etc\n",
    "vidcap = cv2.VideoCapture(video_name)\n",
    "success,image = vidcap.read()\n",
    "count = 1\n",
    "while success:\n",
    "  cv2.imwrite(\"%d.jpg\" % count, image)     # save frame as JPEG file\n",
    "  success,image = vidcap.read()\n",
    "  count += 1\n"
   ]
  },
  {
   "cell_type": "code",
   "execution_count": null,
   "id": "e0b74344",
   "metadata": {},
   "outputs": [],
   "source": [
    "  from google.colab import drive\n",
    "  drive.mount('/content/drive')"
   ]
  },
  {
   "cell_type": "code",
   "execution_count": null,
   "id": "1f8a0a2a",
   "metadata": {},
   "outputs": [],
   "source": [
    "from pyparsing.helpers import FollowedBy\n",
    "import cv2\n",
    "step = 13\n",
    "flow = None\n",
    "width =1024\n",
    "height =591\n",
    "flow2 = np.zeros((width,height,2))\n",
    "count1 =1\n",
    "count2 =2\n",
    "\n",
    "from PIL import Image\n",
    "\n",
    "for i in range(1,30):\n",
    "  img = Image.open(f'{count1}.png')\n",
    "  imgGray1 = img.convert('L')\n",
    "  img = Image.open(f'{count2}.png')\n",
    "  imgGray2 = img.convert('L')\n",
    "  flow = cv2.calcOpticalFlowFarneback(prev=np.array(imgGray1),\n",
    "                                        next=np.array(imgGray2), flow=flow,\n",
    "                                        pyr_scale=0.5, levels=5, winsize=50,\n",
    "                                        iterations=5, poly_n=7, poly_sigma=1.5,\n",
    "                                      flags=0)\n",
    "\n",
    "  flow2[:,:,1] += (flow[:,:,1]*(-1))\n",
    "  flow2[:,:,0] += flow[:,:,0]\n",
    "\n",
    "  count1 = count1 + 1\n",
    "  count2 = count2 + 1\n",
    "flow1 = flow2/29\n"
   ]
  },
  {
   "cell_type": "code",
   "execution_count": null,
   "id": "263d30ca",
   "metadata": {},
   "outputs": [],
   "source": [
    "\n",
    "print(flow2.shape)\n",
    "plt.quiver(np.arange(0, height, step), np.arange(width, -1, -step),\n",
    "          flow2[::step, ::step, 0], flow2[::step, ::step, 1])\n",
    "plt.axis('off')\n",
    "plt.gcf().set_size_inches(32, 32)"
   ]
  },
  {
   "cell_type": "code",
   "execution_count": null,
   "id": "55798c7f",
   "metadata": {},
   "outputs": [],
   "source": [
    "import seaborn as sns\n",
    "flow_new = flow1[:,:,:]\n",
    "mag_img, pha_img = cv2.cartToPolar(flow1[..., 0]*2, flow1[..., 1]*2)\n",
    "\n",
    "plt.figure(figsize=(128, 32))\n",
    "im = sns.heatmap(\n",
    "    mag_img[:, :],\n",
    "    cmap=\"jet\",\n",
    "    cbar=True,\n",
    "    vmin=0,\n",
    "    vmax=14,  # Color scale max değeri manuel ayarlanıyor\n",
    "    annot_kws={\"size\": 16}\n",
    ")\n",
    "sns.set(font_scale=2)"
   ]
  }
 ],
 "metadata": {
  "kernelspec": {
   "display_name": "Python 3 (ipykernel)",
   "language": "python",
   "name": "python3"
  },
  "language_info": {
   "codemirror_mode": {
    "name": "ipython",
    "version": 3
   },
   "file_extension": ".py",
   "mimetype": "text/x-python",
   "name": "python",
   "nbconvert_exporter": "python",
   "pygments_lexer": "ipython3",
   "version": "3.9.13"
  }
 },
 "nbformat": 4,
 "nbformat_minor": 5
}
